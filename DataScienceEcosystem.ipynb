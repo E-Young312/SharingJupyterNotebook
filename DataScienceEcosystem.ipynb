{
 "cells": [
  {
   "cell_type": "markdown",
   "id": "183d38eb-d7e1-4f11-a24d-5befc884487b",
   "metadata": {},
   "source": [
    "# Data Science Tools and Ecosystem"
   ]
  },
  {
   "cell_type": "markdown",
   "id": "1f76048b-8528-4182-8ef1-b8e722f723b6",
   "metadata": {},
   "source": [
    "In this notebook, Data Science Tools and Ecosystem are summarized. "
   ]
  },
  {
   "cell_type": "markdown",
   "id": "54dd0b65-41a9-4ea3-90ff-d3011a78e747",
   "metadata": {},
   "source": [
    "__Objectives:__\n",
    "* List popular languages for Data Science\n",
    "* List Commonly used libraries for Data Science\n",
    "* Table of Data Science tools\n",
    "* Arithmetic expressions using Python"
   ]
  },
  {
   "cell_type": "markdown",
   "id": "3099d783-b2f1-466f-a58b-3dd5541fad37",
   "metadata": {},
   "source": [
    "Some of the popular languages that Data Scientists use are:\n",
    "1. SQL\n",
    "2. Python\n",
    "3. R"
   ]
  },
  {
   "cell_type": "markdown",
   "id": "6c8e3b31-f81c-4352-98d5-f64a173964e6",
   "metadata": {},
   "source": [
    "Some of the commonly used libraries used by Data Scientists include:\n",
    "1. ggplot\n",
    "2. Leafly\n",
    "3. Plotly"
   ]
  },
  {
   "cell_type": "markdown",
   "id": "2003d2b4-5768-4622-98de-10895aa3043a",
   "metadata": {},
   "source": [
    "|Data Science Tools|\n",
    "|------------------|\n",
    "|git|\n",
    "|ApacheKafka|\n",
    "|Anaconda|"
   ]
  },
  {
   "cell_type": "markdown",
   "id": "65ac3924-d39e-4e87-934f-f26d2c82830d",
   "metadata": {},
   "source": [
    "### Below are a few examples of evaluating arithmetic expressions in Python"
   ]
  },
  {
   "cell_type": "code",
   "execution_count": 17,
   "id": "037bcdb1-0747-491f-a18e-76d91a8e9eac",
   "metadata": {},
   "outputs": [
    {
     "data": {
      "text/plain": [
       "17"
      ]
     },
     "execution_count": 17,
     "metadata": {},
     "output_type": "execute_result"
    }
   ],
   "source": [
    "#This is a simple arithmetic expression to multiply then add integers\n",
    "(3*4)+5"
   ]
  },
  {
   "cell_type": "code",
   "execution_count": 7,
   "id": "2d1f75d8-a6dd-46e9-a3cf-e4b3249c17bc",
   "metadata": {},
   "outputs": [
    {
     "data": {
      "text/plain": [
       "3.3333333333333335"
      ]
     },
     "execution_count": 7,
     "metadata": {},
     "output_type": "execute_result"
    }
   ],
   "source": [
    "#This will convert 200 minutes to hours by dividing by 60\n",
    "200/60"
   ]
  },
  {
   "cell_type": "markdown",
   "id": "0ec7f32e-f4ee-4a6a-b6e6-a4c2f17df13b",
   "metadata": {},
   "source": [
    "## Author\n",
    "Erica Young"
   ]
  }
 ],
 "metadata": {
  "kernelspec": {
   "display_name": "Python [conda env:base] *",
   "language": "python",
   "name": "conda-base-py"
  },
  "language_info": {
   "codemirror_mode": {
    "name": "ipython",
    "version": 3
   },
   "file_extension": ".py",
   "mimetype": "text/x-python",
   "name": "python",
   "nbconvert_exporter": "python",
   "pygments_lexer": "ipython3",
   "version": "3.12.7"
  }
 },
 "nbformat": 4,
 "nbformat_minor": 5
}
